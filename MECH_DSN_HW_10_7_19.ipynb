{
  "nbformat": 4,
  "nbformat_minor": 0,
  "metadata": {
    "colab": {
      "name": "MECH_DSN_HW_10-7-19",
      "provenance": []
    },
    "kernelspec": {
      "name": "python3",
      "display_name": "Python 3"
    }
  },
  "cells": [
    {
      "cell_type": "code",
      "metadata": {
        "id": "ozYjYmhiITNE",
        "colab_type": "code",
        "colab": {}
      },
      "source": [
        "import numpy.matlib \n",
        "import numpy as np \n",
        "import math as m"
      ],
      "execution_count": 0,
      "outputs": []
    },
    {
      "cell_type": "code",
      "metadata": {
        "id": "aVCiyNL-qKF4",
        "colab_type": "code",
        "outputId": "410b31a3-aaf4-4f8a-f3d5-dd073c195327",
        "colab": {
          "base_uri": "https://localhost:8080/",
          "height": 269
        }
      },
      "source": [
        "#Problem 6.4\n",
        "\n",
        "#a)\n",
        "\n",
        "B_a = 0.25*np.array([[-1,0,2,0,-1,0],[0,-2,0,0,0,2],[-2,-1,0,2,2,-1]])\n",
        "D = 30e6/(1-0.25**2)*np.array([[1,0.25,0],[0.25,1,0],[0,0,.375]])\n",
        "d = np.array([0,0.0025, 0.0012, 0,0,0.0025]).reshape(6,1)\n",
        "\n",
        "a_stress = np.mat(D)*(np.mat(B_a)*np.mat(d))\n",
        "print('a) stress =\\n', a_stress)\n",
        "\n",
        "\n",
        "# b)\n",
        "B_b = (1/1.2)*np.array([[-1,0,1,0,0,0],[0,-1.2,0,0,0,1.2],[-1.2,-1,0,1,1.2,0]])\n",
        "\n",
        "b_stress =np.mat(D)*(np.mat(B_b)*np.mat(d))\n",
        "print('b) stress =\\n', b_stress)\n",
        "\n",
        "\n",
        "#c)\n",
        "B_c = 0.5*np.array([[-1,0,1,0,0,0],[0,-2,0,0,0,2],[-2,-1,0,1,2,0]])\n",
        "\n",
        "c_stress =np.mat(D)*(np.mat(B_c)*np.mat(d))\n",
        "print('b) stress =\\n', c_stress)\n"
      ],
      "execution_count": 0,
      "outputs": [
        {
          "output_type": "stream",
          "text": [
            "a) stress =\n",
            " [[ 19200.]\n",
            " [  4800.]\n",
            " [-15000.]]\n",
            "b) stress =\n",
            " [[ 32000.]\n",
            " [  8000.]\n",
            " [-25000.]]\n",
            "b) stress =\n",
            " [[ 19200.]\n",
            " [  4800.]\n",
            " [-15000.]]\n"
          ],
          "name": "stdout"
        },
        {
          "output_type": "execute_result",
          "data": {
            "text/plain": [
              "matrix([[ 0.0006 ],\n",
              "        [ 0.     ],\n",
              "        [-0.00125]])"
            ]
          },
          "metadata": {
            "tags": []
          },
          "execution_count": 4
        }
      ]
    },
    {
      "cell_type": "code",
      "metadata": {
        "id": "YtyFe256-d6m",
        "colab_type": "code",
        "outputId": "60ad5f00-27a7-46ee-bcd2-e5514a80fa6c",
        "colab": {
          "base_uri": "https://localhost:8080/",
          "height": 622
        }
      },
      "source": [
        "# Problem 6.13\\\n",
        "\n",
        "B1 = (1/200)*np.array([[0,0,10,0,-10,0],[0,-20,0,0,0,20],[-20,0,0,10,20,-10]])\n",
        "B2 = (1/200)*np.array([[-10,0,10,0,0,0],[0,0,0,-20,0,20],[0,-10,-20,10,20,0]])\n",
        "D = (30e6/(1-0.3**2))*np.array([[1,0.3,0],[0.3,1,0],[0,0,0.35]])\n",
        "\n",
        "A = 100\n",
        "t = 1\n",
        "\n",
        "K1 = t*A*(np.mat(np.transpose(B1))*np.mat(D))*np.mat(B1)\n",
        "K2 = t*A*np.mat(np.transpose(B2))*np.mat(D)*np.mat(B2)\n",
        "\n",
        "print('K1 = \\n',K1*(0.91/375e3))\n",
        "print('K2 = \\n',K2*(0.91/375e3))\n",
        "\n",
        "\n",
        "K_simplified = (375e3/0.91)*np.array([[48,0,-28,14],[0,87,12,-80],[-28,12,48,-26],[14,-80,-26,87]])\n",
        "F = np.array([[0],[-5000],[0],[-5000]])\n",
        "\n",
        "disp = np.mat(np.linalg.inv(K_simplified))*np.mat(F)\n",
        "\n",
        "print('\\nnodal displacement = \\n',disp)\n",
        "\n",
        "disp3 = np.array([0,0,disp[0],disp[1],0,0]).reshape(6,1)\n",
        "\n",
        "stress3 = np.mat(D)*(np.mat(B1)*np.mat(disp3))\n",
        "print('\\nstress3 =\\n', stress3)\n",
        "\n",
        "p_stress3 = np.array([(824+247)/2 + m.sqrt(((824-247)/2)**2 + (-1587.7)**2),(824+247)/2 - m.sqrt(((824-247)/2)**2 + (-1587.7)**2)])\n",
        "print('\\nprincipal stress3 = ',p_stress3)\n",
        "\n",
        "p_angle3 = 0.5*m.atan((2*-1587.7)/(824.7-247.4))\n",
        "print(\"principal angle3 =\", m.degrees(p_angle3))\n",
        "\n",
        "disp34 = np.array([[0],[0],disp[2],disp[3],disp[0],disp[1]])\n",
        "\n",
        "\n",
        "stress34 = np.mat(D)*(np.mat(B2)*np.mat(disp34))\n",
        "print('\\nstress34 =\\n', stress34)\n",
        "\n",
        "p_stress34 = np.array([(-825+294)/2 + m.sqrt(((-825-294)/2)**2 + (-412.3)**2),(-825+294)/2 - m.sqrt(((-825-294)/2)**2 + (-412.3)**2)])\n",
        "print('\\nprincipal stress34 = ',p_stress34)\n",
        "\n",
        "p_angle34 = 0.5*m.atan((2*-412.3)/(-824.7-293.8))\n",
        "print(\"principal angle34 =\", m.degrees(p_angle34))"
      ],
      "execution_count": 0,
      "outputs": [
        {
          "output_type": "stream",
          "text": [
            "K1 = \n",
            " [[ 28.   0.   0. -14. -28.  14.]\n",
            " [  0.  80. -12.   0.  12. -80.]\n",
            " [  0. -12.  20.   0. -20.  12.]\n",
            " [-14.   0.   0.   7.  14.  -7.]\n",
            " [-28.  12. -20.  14.  48. -26.]\n",
            " [ 14. -80.  12.  -7. -26.  87.]]\n",
            "K2 = \n",
            " [[ 20.   0. -20.  12.   0. -12.]\n",
            " [  0.   7.  14.  -7. -14.   0.]\n",
            " [-20.  14.  48. -26. -28.  12.]\n",
            " [ 12.  -7. -26.  87.  14. -80.]\n",
            " [  0. -14. -28.  14.  28.   0.]\n",
            " [-12.   0.  12. -80.   0.  80.]]\n",
            "\n",
            "nodal displacement = \n",
            " [[ 0.00050029]\n",
            " [-0.00275196]\n",
            " [-0.00060854]\n",
            " [-0.00293237]]\n",
            "\n",
            "stress3 =\n",
            " [[matrix([[824.65972778]])]\n",
            " [matrix([[247.39791833]])]\n",
            " [matrix([[-1587.67013611]])]]\n",
            "\n",
            "principal stress3 =  [ 2149.19871413 -1078.19871413]\n",
            "principal angle3 = -39.847973726732086\n",
            "\n",
            "stress34 =\n",
            " [[-824.6597277822257]\n",
            " [293.8350680544451]\n",
            " [-412.32986389111227]]\n",
            "\n",
            "principal stress34 =  [ 429.50470502 -960.50470502]\n",
            "principal angle34 = 18.199513479647727\n"
          ],
          "name": "stdout"
        }
      ]
    }
  ]
}